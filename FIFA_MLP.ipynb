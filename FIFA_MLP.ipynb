{
  "nbformat": 4,
  "nbformat_minor": 0,
  "metadata": {
    "colab": {
      "name": "FIFA_MLP.ipynb",
      "provenance": [],
      "authorship_tag": "ABX9TyOnMOgSGo5aeYHBIDFlbhPg",
      "include_colab_link": true
    },
    "kernelspec": {
      "name": "python3",
      "display_name": "Python 3"
    }
  },
  "cells": [
    {
      "cell_type": "markdown",
      "metadata": {
        "id": "view-in-github",
        "colab_type": "text"
      },
      "source": [
        "<a href=\"https://colab.research.google.com/github/diefgallegorio/Entrega-MLP-FIFA/blob/master/FIFA_MLP.ipynb\" target=\"_parent\"><img src=\"https://colab.research.google.com/assets/colab-badge.svg\" alt=\"Open In Colab\"/></a>"
      ]
    },
    {
      "cell_type": "markdown",
      "metadata": {
        "id": "-thkdpzLYrL5",
        "colab_type": "text"
      },
      "source": [
        "# MLP FIFA"
      ]
    },
    {
      "cell_type": "markdown",
      "metadata": {
        "id": "PGdYkUMCYxkn",
        "colab_type": "text"
      },
      "source": [
        "Installo tensorflow y keras"
      ]
    },
    {
      "cell_type": "code",
      "metadata": {
        "id": "uWmIIxI1EOn0",
        "colab_type": "code",
        "outputId": "423114b8-d57d-41f6-a4ed-ceec382dc641",
        "colab": {
          "base_uri": "https://localhost:8080/",
          "height": 490
        }
      },
      "source": [
        "!pip install tensorflow==2.0.0-alpha0\n",
        "# !pip install --upgrade tensorflow\n",
        "# !pip install -U tensorflow-gpu==2.0.0 grpcio\n",
        "!pip install --upgrade keras"
      ],
      "execution_count": 1,
      "outputs": [
        {
          "output_type": "stream",
          "text": [
            "Requirement already satisfied: tensorflow==2.0.0-alpha0 in /usr/local/lib/python3.6/dist-packages (2.0.0a0)\n",
            "Requirement already satisfied: astor>=0.6.0 in /usr/local/lib/python3.6/dist-packages (from tensorflow==2.0.0-alpha0) (0.8.1)\n",
            "Requirement already satisfied: tb-nightly<1.14.0a20190302,>=1.14.0a20190301 in /usr/local/lib/python3.6/dist-packages (from tensorflow==2.0.0-alpha0) (1.14.0a20190301)\n",
            "Requirement already satisfied: keras-applications>=1.0.6 in /usr/local/lib/python3.6/dist-packages (from tensorflow==2.0.0-alpha0) (1.0.8)\n",
            "Requirement already satisfied: grpcio>=1.8.6 in /usr/local/lib/python3.6/dist-packages (from tensorflow==2.0.0-alpha0) (1.27.1)\n",
            "Requirement already satisfied: tf-estimator-nightly<1.14.0.dev2019030116,>=1.14.0.dev2019030115 in /usr/local/lib/python3.6/dist-packages (from tensorflow==2.0.0-alpha0) (1.14.0.dev2019030115)\n",
            "Requirement already satisfied: gast>=0.2.0 in /usr/local/lib/python3.6/dist-packages (from tensorflow==2.0.0-alpha0) (0.2.2)\n",
            "Requirement already satisfied: protobuf>=3.6.1 in /usr/local/lib/python3.6/dist-packages (from tensorflow==2.0.0-alpha0) (3.10.0)\n",
            "Requirement already satisfied: six>=1.10.0 in /usr/local/lib/python3.6/dist-packages (from tensorflow==2.0.0-alpha0) (1.12.0)\n",
            "Requirement already satisfied: absl-py>=0.7.0 in /usr/local/lib/python3.6/dist-packages (from tensorflow==2.0.0-alpha0) (0.9.0)\n",
            "Requirement already satisfied: wheel>=0.26 in /usr/local/lib/python3.6/dist-packages (from tensorflow==2.0.0-alpha0) (0.34.2)\n",
            "Requirement already satisfied: google-pasta>=0.1.2 in /usr/local/lib/python3.6/dist-packages (from tensorflow==2.0.0-alpha0) (0.1.8)\n",
            "Requirement already satisfied: numpy<2.0,>=1.14.5 in /usr/local/lib/python3.6/dist-packages (from tensorflow==2.0.0-alpha0) (1.17.5)\n",
            "Requirement already satisfied: termcolor>=1.1.0 in /usr/local/lib/python3.6/dist-packages (from tensorflow==2.0.0-alpha0) (1.1.0)\n",
            "Requirement already satisfied: keras-preprocessing>=1.0.5 in /usr/local/lib/python3.6/dist-packages (from tensorflow==2.0.0-alpha0) (1.1.0)\n",
            "Requirement already satisfied: werkzeug>=0.11.15 in /usr/local/lib/python3.6/dist-packages (from tb-nightly<1.14.0a20190302,>=1.14.0a20190301->tensorflow==2.0.0-alpha0) (1.0.0)\n",
            "Requirement already satisfied: markdown>=2.6.8 in /usr/local/lib/python3.6/dist-packages (from tb-nightly<1.14.0a20190302,>=1.14.0a20190301->tensorflow==2.0.0-alpha0) (3.2)\n",
            "Requirement already satisfied: h5py in /usr/local/lib/python3.6/dist-packages (from keras-applications>=1.0.6->tensorflow==2.0.0-alpha0) (2.8.0)\n",
            "Requirement already satisfied: setuptools in /usr/local/lib/python3.6/dist-packages (from protobuf>=3.6.1->tensorflow==2.0.0-alpha0) (45.1.0)\n",
            "Requirement already up-to-date: keras in /usr/local/lib/python3.6/dist-packages (2.3.1)\n",
            "Requirement already satisfied, skipping upgrade: h5py in /usr/local/lib/python3.6/dist-packages (from keras) (2.8.0)\n",
            "Requirement already satisfied, skipping upgrade: numpy>=1.9.1 in /usr/local/lib/python3.6/dist-packages (from keras) (1.17.5)\n",
            "Requirement already satisfied, skipping upgrade: pyyaml in /usr/local/lib/python3.6/dist-packages (from keras) (3.13)\n",
            "Requirement already satisfied, skipping upgrade: keras-applications>=1.0.6 in /usr/local/lib/python3.6/dist-packages (from keras) (1.0.8)\n",
            "Requirement already satisfied, skipping upgrade: keras-preprocessing>=1.0.5 in /usr/local/lib/python3.6/dist-packages (from keras) (1.1.0)\n",
            "Requirement already satisfied, skipping upgrade: scipy>=0.14 in /usr/local/lib/python3.6/dist-packages (from keras) (1.4.1)\n",
            "Requirement already satisfied, skipping upgrade: six>=1.9.0 in /usr/local/lib/python3.6/dist-packages (from keras) (1.12.0)\n"
          ],
          "name": "stdout"
        }
      ]
    },
    {
      "cell_type": "markdown",
      "metadata": {
        "id": "_RQAv23bY2IS",
        "colab_type": "text"
      },
      "source": [
        "## Importo desde Drive la BD y el archivo de funciones para el preprocesamiento"
      ]
    },
    {
      "cell_type": "code",
      "metadata": {
        "id": "nbtd45fhwRft",
        "colab_type": "code",
        "colab": {}
      },
      "source": [
        "import pandas as pd\n",
        "import numpy as np\n",
        "import matplotlib.pyplot as plt\n",
        "import warnings\n",
        "warnings.filterwarnings(\"ignore\")\n",
        "\n",
        "from sklearn.impute import SimpleImputer \n",
        "from sklearn.model_selection import train_test_split, GridSearchCV,cross_val_score, cross_val_predict\n",
        "from sklearn.metrics import mean_absolute_error\n",
        "from sklearn.pipeline import Pipeline\n",
        "\n",
        "import tensorflow as tf\n",
        "from tensorflow import keras\n",
        "\n",
        "# para acceder a archivos desde google drive en google colaboratory\n",
        "\n",
        "from pydrive.auth import GoogleAuth\n",
        "from pydrive.drive import GoogleDrive\n",
        "from google.colab import auth\n",
        "from oauth2client.client import GoogleCredentials\n",
        "\n",
        "auth.authenticate_user()\n",
        "gauth = GoogleAuth()\n",
        "gauth.credentials = GoogleCredentials.get_application_default()\n",
        "drive = GoogleDrive(gauth)\n",
        "\n",
        "#Importo base de datos housing\n",
        "\n",
        "fifa = '1iyO_wm5Ws6ZT_VgMLQWUSosrk_Pydnxl'\n",
        "downloaded = drive.CreateFile({'id': fifa})\n",
        "downloaded.GetContentFile('fifa.csv') \n",
        "\n",
        "#Importo archivo de funciones para housing\n",
        "\n",
        "Funciones = '1HNYPENq7gsP9KqhGevxCdCe87Z4e6YYZ'\n",
        "downloaded = drive.CreateFile({'id': Funciones})\n",
        "downloaded.GetContentFile('funciones_fifa.py') \n",
        "\n",
        "#Importo la función declarada en el archivo externo\n",
        "\n",
        "from funciones_fifa import dummy_fifa, pre_exploratorio, code_euro\n",
        "\n",
        "#Con pandas leo la base de datos y pruebo que cargue adecuadamente\n",
        "Xdata = pd.read_csv('fifa.csv')\n",
        "\n",
        "#Guardo columna de photo\n",
        "pivote = Xdata['Photo']\n",
        "\n",
        "#Columnas que se pueden borrar\n",
        "col_drop = ['Unnamed: 0', 'Name','ID','Flag',\n",
        "           'Club Logo','Loaned From']\n",
        "Xdata.drop(columns = col_drop, inplace = True)"
      ],
      "execution_count": 0,
      "outputs": []
    },
    {
      "cell_type": "markdown",
      "metadata": {
        "id": "1G2vlc3fY8xb",
        "colab_type": "text"
      },
      "source": [
        "## Separo y codifico las imagenes en una columna a parte\n",
        "En caso de que la url no sea válida, se pondrá 0 en el atributo, para posteriormente buscar todas las tuplas que tengan 0 en ese atributo para eliminar la tupla completa"
      ]
    },
    {
      "cell_type": "code",
      "metadata": {
        "id": "AX19sKzkwR3b",
        "colab_type": "code",
        "colab": {}
      },
      "source": [
        "def plot_color_image(image):\n",
        "    plt.imshow(image, interpolation=\"nearest\")\n",
        "    plt.axis(\"off\")"
      ],
      "execution_count": 0,
      "outputs": []
    },
    {
      "cell_type": "code",
      "metadata": {
        "id": "vIvxXBSiVbzI",
        "colab_type": "code",
        "colab": {
          "base_uri": "https://localhost:8080/",
          "height": 50
        },
        "outputId": "641fe51d-f89d-42f5-f194-0e057340e74a"
      },
      "source": [
        "!pip install opencv-python"
      ],
      "execution_count": 3,
      "outputs": [
        {
          "output_type": "stream",
          "text": [
            "Requirement already satisfied: opencv-python in /usr/local/lib/python3.6/dist-packages (4.1.2.30)\n",
            "Requirement already satisfied: numpy>=1.11.3 in /usr/local/lib/python3.6/dist-packages (from opencv-python) (1.17.5)\n"
          ],
          "name": "stdout"
        }
      ]
    },
    {
      "cell_type": "code",
      "metadata": {
        "id": "rBWnInQlH38S",
        "colab_type": "code",
        "colab": {
          "base_uri": "https://localhost:8080/",
          "height": 218
        },
        "outputId": "8cc91871-6c2e-4fdc-df7e-5878926ac1d6"
      },
      "source": [
        "Xdata = Xdata.iloc[:500,:]\n",
        "pivote = pivote.iloc[:500]\n",
        "pivote"
      ],
      "execution_count": 4,
      "outputs": [
        {
          "output_type": "execute_result",
          "data": {
            "text/plain": [
              "0      https://cdn.sofifa.org/players/4/19/158023.png\n",
              "1       https://cdn.sofifa.org/players/4/19/20801.png\n",
              "2      https://cdn.sofifa.org/players/4/19/190871.png\n",
              "3      https://cdn.sofifa.org/players/4/19/193080.png\n",
              "4      https://cdn.sofifa.org/players/4/19/192985.png\n",
              "                            ...                      \n",
              "495    https://cdn.sofifa.org/players/4/19/190778.png\n",
              "496    https://cdn.sofifa.org/players/4/19/190544.png\n",
              "497    https://cdn.sofifa.org/players/4/19/190286.png\n",
              "498    https://cdn.sofifa.org/players/4/19/190264.png\n",
              "499    https://cdn.sofifa.org/players/4/19/189805.png\n",
              "Name: Photo, Length: 500, dtype: object"
            ]
          },
          "metadata": {
            "tags": []
          },
          "execution_count": 4
        }
      ]
    },
    {
      "cell_type": "code",
      "metadata": {
        "id": "rw06IMT2V56F",
        "colab_type": "code",
        "colab": {}
      },
      "source": [
        "import cv2\n",
        "import requests\n",
        "\n",
        "for i in range(len(pivote)):\n",
        "  try:\n",
        "    url = pivote[i]\n",
        "    resp = requests.get(url, stream=True).raw\n",
        "    image = np.asarray(bytearray(resp.read()), dtype=\"uint8\")\n",
        "    image = cv2.imdecode(image, cv2.IMREAD_COLOR)\n",
        "    pivote[i] = image\n",
        "  except:\n",
        "    pivote[i] = np.zeros((48, 48, 3))"
      ],
      "execution_count": 0,
      "outputs": []
    },
    {
      "cell_type": "code",
      "metadata": {
        "id": "nrdVXjS1V6pd",
        "colab_type": "code",
        "colab": {
          "base_uri": "https://localhost:8080/",
          "height": 34
        },
        "outputId": "c69a9e35-355a-4cb4-d25f-b42e5b73d9ab"
      },
      "source": [
        "Xdata['Photo'] = pivote\n",
        "Xdata['Photo'][1].shape"
      ],
      "execution_count": 6,
      "outputs": [
        {
          "output_type": "execute_result",
          "data": {
            "text/plain": [
              "(48, 48, 3)"
            ]
          },
          "metadata": {
            "tags": []
          },
          "execution_count": 6
        }
      ]
    },
    {
      "cell_type": "code",
      "metadata": {
        "id": "IgAOaMXY5DJK",
        "colab_type": "code",
        "outputId": "3484ef5f-8738-4004-955d-73da4374943b",
        "colab": {
          "base_uri": "https://localhost:8080/",
          "height": 1000
        }
      },
      "source": [
        "# response = requests.get(pivote[0]) \n",
        "# img = Image.open(BytesIO(response.content))\n",
        "Xdata.info()"
      ],
      "execution_count": 7,
      "outputs": [
        {
          "output_type": "stream",
          "text": [
            "<class 'pandas.core.frame.DataFrame'>\n",
            "RangeIndex: 500 entries, 0 to 499\n",
            "Data columns (total 83 columns):\n",
            "Age                         500 non-null int64\n",
            "Photo                       491 non-null object\n",
            "Nationality                 500 non-null object\n",
            "Overall                     500 non-null int64\n",
            "Potential                   500 non-null int64\n",
            "Club                        499 non-null object\n",
            "Value                       500 non-null object\n",
            "Wage                        500 non-null object\n",
            "Special                     500 non-null int64\n",
            "Preferred Foot              500 non-null object\n",
            "International Reputation    500 non-null float64\n",
            "Weak Foot                   500 non-null float64\n",
            "Skill Moves                 500 non-null float64\n",
            "Work Rate                   500 non-null object\n",
            "Body Type                   500 non-null object\n",
            "Real Face                   500 non-null object\n",
            "Position                    500 non-null object\n",
            "Jersey Number               500 non-null float64\n",
            "Joined                      485 non-null object\n",
            "Contract Valid Until        499 non-null object\n",
            "Height                      500 non-null object\n",
            "Weight                      500 non-null object\n",
            "LS                          443 non-null object\n",
            "ST                          443 non-null object\n",
            "RS                          443 non-null object\n",
            "LW                          443 non-null object\n",
            "LF                          443 non-null object\n",
            "CF                          443 non-null object\n",
            "RF                          443 non-null object\n",
            "RW                          443 non-null object\n",
            "LAM                         443 non-null object\n",
            "CAM                         443 non-null object\n",
            "RAM                         443 non-null object\n",
            "LM                          443 non-null object\n",
            "LCM                         443 non-null object\n",
            "CM                          443 non-null object\n",
            "RCM                         443 non-null object\n",
            "RM                          443 non-null object\n",
            "LWB                         443 non-null object\n",
            "LDM                         443 non-null object\n",
            "CDM                         443 non-null object\n",
            "RDM                         443 non-null object\n",
            "RWB                         443 non-null object\n",
            "LB                          443 non-null object\n",
            "LCB                         443 non-null object\n",
            "CB                          443 non-null object\n",
            "RCB                         443 non-null object\n",
            "RB                          443 non-null object\n",
            "Crossing                    500 non-null float64\n",
            "Finishing                   500 non-null float64\n",
            "HeadingAccuracy             500 non-null float64\n",
            "ShortPassing                500 non-null float64\n",
            "Volleys                     500 non-null float64\n",
            "Dribbling                   500 non-null float64\n",
            "Curve                       500 non-null float64\n",
            "FKAccuracy                  500 non-null float64\n",
            "LongPassing                 500 non-null float64\n",
            "BallControl                 500 non-null float64\n",
            "Acceleration                500 non-null float64\n",
            "SprintSpeed                 500 non-null float64\n",
            "Agility                     500 non-null float64\n",
            "Reactions                   500 non-null float64\n",
            "Balance                     500 non-null float64\n",
            "ShotPower                   500 non-null float64\n",
            "Jumping                     500 non-null float64\n",
            "Stamina                     500 non-null float64\n",
            "Strength                    500 non-null float64\n",
            "LongShots                   500 non-null float64\n",
            "Aggression                  500 non-null float64\n",
            "Interceptions               500 non-null float64\n",
            "Positioning                 500 non-null float64\n",
            "Vision                      500 non-null float64\n",
            "Penalties                   500 non-null float64\n",
            "Composure                   500 non-null float64\n",
            "Marking                     500 non-null float64\n",
            "StandingTackle              500 non-null float64\n",
            "SlidingTackle               500 non-null float64\n",
            "GKDiving                    500 non-null float64\n",
            "GKHandling                  500 non-null float64\n",
            "GKKicking                   500 non-null float64\n",
            "GKPositioning               500 non-null float64\n",
            "GKReflexes                  500 non-null float64\n",
            "Release Clause              485 non-null object\n",
            "dtypes: float64(38), int64(4), object(41)\n",
            "memory usage: 324.3+ KB\n"
          ],
          "name": "stdout"
        }
      ]
    },
    {
      "cell_type": "markdown",
      "metadata": {
        "id": "sCD-Bq0_Zl6i",
        "colab_type": "text"
      },
      "source": [
        "## Divido el conjunto de datos, en: Xtest, Xtrain(Xtrain, Xvalid)"
      ]
    },
    {
      "cell_type": "code",
      "metadata": {
        "id": "uNtOFtIEZxzQ",
        "colab_type": "code",
        "colab": {}
      },
      "source": [
        "Xtest, Xtrain = train_test_split(Xdata,test_size=0.7)\n",
        "Xvalid, Xtrain = train_test_split(Xtrain,test_size=0.7)"
      ],
      "execution_count": 0,
      "outputs": []
    },
    {
      "cell_type": "markdown",
      "metadata": {
        "id": "m6KQdyIwZ11k",
        "colab_type": "text"
      },
      "source": [
        "## Aplico pre-procesamiento"
      ]
    },
    {
      "cell_type": "code",
      "metadata": {
        "id": "KDDWYo7WIEuN",
        "colab_type": "code",
        "colab": {}
      },
      "source": [
        "col_sal = \"Release Clause\"\n",
        "\n",
        "ytrain = Xtrain[col_sal]\n",
        "ytest = Xtest[col_sal]\n",
        "yvalid = Xvalid[col_sal]\n",
        "Xtrain.drop(columns=col_sal,inplace=True)\n",
        "Xtest.drop(columns=col_sal,inplace=True)\n",
        "Xvalid.drop(columns=col_sal,inplace=True)\n",
        "\n",
        "ytrain = SimpleImputer(strategy=\"most_frequent\").fit_transform(pd.DataFrame(ytrain)).reshape(-1)\n",
        "ytrain = code_euro(ytrain)\n",
        "\n",
        "ytest = SimpleImputer(strategy=\"most_frequent\").fit_transform(pd.DataFrame(ytest)).reshape(-1)\n",
        "ytest = code_euro(ytest)"
      ],
      "execution_count": 0,
      "outputs": []
    },
    {
      "cell_type": "code",
      "metadata": {
        "id": "0ktOYE7xIjFP",
        "colab_type": "code",
        "colab": {}
      },
      "source": [
        "col_euro = ['Value','Wage'];\n",
        "col_stats = ['LS','ST','RS','LW','LF','CF','RF','RW','LAM',\n",
        "             'CAM','RAM','LM','LCM','CM','RCM','RM','LWB',\n",
        "             'LDM','CDM','RDM','RWB','LB','LCB','CB','RCB','RB'];\n",
        "\n",
        "cat = ['Nationality','Club','Body Type','Position','Preferred Foot',\n",
        "        'Work Rate','Real Face','Contract Valid Until']\n",
        "items = [] \n",
        "for i in cat:\n",
        "    items += [list(Xdata[i].value_counts().index)]\n",
        "cat_usr = dict(zip(cat, items))\n",
        "\n",
        "dummy = dummy_fifa(col_euro=col_euro,col_stats=col_stats,cat_usr = cat_usr)"
      ],
      "execution_count": 0,
      "outputs": []
    },
    {
      "cell_type": "code",
      "metadata": {
        "id": "6ipd9U9boRdV",
        "colab_type": "code",
        "colab": {}
      },
      "source": [
        "#Columnas que se pueden borrar\n",
        "pivote = Xtrain['Photo']\n",
        "Xtrain.drop(columns = ['Photo'], inplace = True)\n",
        "pivoteval = Xvalid['Photo']\n",
        "Xvalid.drop(columns = ['Photo'], inplace = True)\n",
        "\n",
        "Xtrain_pre = dummy.fit_transform(Xtrain)"
      ],
      "execution_count": 0,
      "outputs": []
    },
    {
      "cell_type": "code",
      "metadata": {
        "id": "39DXYDqmIjRb",
        "colab_type": "code",
        "outputId": "5bc086a7-01bc-409b-a0c4-dc1f5331f63a",
        "colab": {
          "base_uri": "https://localhost:8080/",
          "height": 1000
        }
      },
      "source": [
        "Xtrain_pre.info()"
      ],
      "execution_count": 13,
      "outputs": [
        {
          "output_type": "stream",
          "text": [
            "<class 'pandas.core.frame.DataFrame'>\n",
            "Int64Index: 245 entries, 305 to 167\n",
            "Data columns (total 81 columns):\n",
            "Age                         245 non-null int64\n",
            "Nationality                 245 non-null float64\n",
            "Overall                     245 non-null int64\n",
            "Potential                   245 non-null int64\n",
            "Club                        245 non-null float64\n",
            "Value                       245 non-null float64\n",
            "Wage                        245 non-null float64\n",
            "Special                     245 non-null int64\n",
            "Preferred Foot              245 non-null float64\n",
            "International Reputation    245 non-null float64\n",
            "Weak Foot                   245 non-null float64\n",
            "Skill Moves                 245 non-null float64\n",
            "Work Rate                   245 non-null float64\n",
            "Body Type                   245 non-null float64\n",
            "Real Face                   245 non-null float64\n",
            "Position                    245 non-null float64\n",
            "Jersey Number               245 non-null float64\n",
            "Joined                      245 non-null float64\n",
            "Contract Valid Until        245 non-null float64\n",
            "Height                      245 non-null float64\n",
            "Weight                      245 non-null int64\n",
            "LS                          245 non-null float64\n",
            "ST                          245 non-null float64\n",
            "RS                          245 non-null float64\n",
            "LW                          245 non-null float64\n",
            "LF                          245 non-null float64\n",
            "CF                          245 non-null float64\n",
            "RF                          245 non-null float64\n",
            "RW                          245 non-null float64\n",
            "LAM                         245 non-null float64\n",
            "CAM                         245 non-null float64\n",
            "RAM                         245 non-null float64\n",
            "LM                          245 non-null float64\n",
            "LCM                         245 non-null float64\n",
            "CM                          245 non-null float64\n",
            "RCM                         245 non-null float64\n",
            "RM                          245 non-null float64\n",
            "LWB                         245 non-null float64\n",
            "LDM                         245 non-null float64\n",
            "CDM                         245 non-null float64\n",
            "RDM                         245 non-null float64\n",
            "RWB                         245 non-null float64\n",
            "LB                          245 non-null float64\n",
            "LCB                         245 non-null float64\n",
            "CB                          245 non-null float64\n",
            "RCB                         245 non-null float64\n",
            "RB                          245 non-null float64\n",
            "Crossing                    245 non-null float64\n",
            "Finishing                   245 non-null float64\n",
            "HeadingAccuracy             245 non-null float64\n",
            "ShortPassing                245 non-null float64\n",
            "Volleys                     245 non-null float64\n",
            "Dribbling                   245 non-null float64\n",
            "Curve                       245 non-null float64\n",
            "FKAccuracy                  245 non-null float64\n",
            "LongPassing                 245 non-null float64\n",
            "BallControl                 245 non-null float64\n",
            "Acceleration                245 non-null float64\n",
            "SprintSpeed                 245 non-null float64\n",
            "Agility                     245 non-null float64\n",
            "Reactions                   245 non-null float64\n",
            "Balance                     245 non-null float64\n",
            "ShotPower                   245 non-null float64\n",
            "Jumping                     245 non-null float64\n",
            "Stamina                     245 non-null float64\n",
            "Strength                    245 non-null float64\n",
            "LongShots                   245 non-null float64\n",
            "Aggression                  245 non-null float64\n",
            "Interceptions               245 non-null float64\n",
            "Positioning                 245 non-null float64\n",
            "Vision                      245 non-null float64\n",
            "Penalties                   245 non-null float64\n",
            "Composure                   245 non-null float64\n",
            "Marking                     245 non-null float64\n",
            "StandingTackle              245 non-null float64\n",
            "SlidingTackle               245 non-null float64\n",
            "GKDiving                    245 non-null float64\n",
            "GKHandling                  245 non-null float64\n",
            "GKKicking                   245 non-null float64\n",
            "GKPositioning               245 non-null float64\n",
            "GKReflexes                  245 non-null float64\n",
            "dtypes: float64(76), int64(5)\n",
            "memory usage: 167.0 KB\n"
          ],
          "name": "stdout"
        }
      ]
    },
    {
      "cell_type": "code",
      "metadata": {
        "id": "6ZK-uJv4MOp_",
        "colab_type": "code",
        "outputId": "08ff4876-071d-4c5d-957a-0664d1ad3396",
        "colab": {
          "base_uri": "https://localhost:8080/",
          "height": 34
        }
      },
      "source": [
        "Xtrain_pre.shape[1:]"
      ],
      "execution_count": 25,
      "outputs": [
        {
          "output_type": "execute_result",
          "data": {
            "text/plain": [
              "(81,)"
            ]
          },
          "metadata": {
            "tags": []
          },
          "execution_count": 25
        }
      ]
    },
    {
      "cell_type": "markdown",
      "metadata": {
        "id": "wrrTtMsjaU6O",
        "colab_type": "text"
      },
      "source": [
        "## Creo el modelo de red neuronal\n",
        "\n",
        "Se tendrá 2 entradas:\n",
        "1. Será el dataset de entrenamiento con 81  atributos, sin incluir fotos\n",
        "2. Columna de fotos, con sus dimensiones correspondientes (48 x 48) en RGB\n",
        "\n",
        "Cada entrada tendrá una camino de red diferente, pero se concatenan en un punto con el objetivo de tener en cuenta variables de las dos redes para tener 2 salidas: Clasificador del jugador (Bueno, regular o malo) y precio del jugador\n",
        "\n"
      ]
    },
    {
      "cell_type": "code",
      "metadata": {
        "id": "yeLDwECZ0yLQ",
        "colab_type": "code",
        "colab": {}
      },
      "source": [
        "from functools import partial\n",
        "\n",
        "DefaultConv2D = partial(keras.layers.Conv2D,\n",
        "                        kernel_size=3, activation='relu', padding=\"SAME\")\n",
        "\n",
        "#####111111#####\n",
        "\n",
        "input_A = keras.layers.Input(shape = Xtrain_pre.shape[1:])\n",
        "\n",
        "hidden1A = keras.layers.Dense(30, activation = 'relu')(input_A)\n",
        "hidden2A = keras.layers.Dense(10, activation = 'tanh')(hidden1A)\n",
        "\n",
        "\n",
        "#####222222#####\n",
        "input_B = keras.layers.Input(shape=(48,48,3))\n",
        "cnn1 = keras.layers.Conv2D(filters=64,input_shape=[48,48,3],kernel_size=7, activation='relu', padding=\"SAME\")(input_B)\n",
        "#input_B = DefaultConv2D(filters=64, kernel_size=7, input_shape=[48, 48, 3])\n",
        "hidden1B = keras.layers.MaxPooling2D(pool_size=2)(cnn1)\n",
        "hidden2B = DefaultConv2D(filters=128)(hidden1B)\n",
        "hidden3B = keras.layers.MaxPooling2D(pool_size=2)(hidden2B)\n",
        "hidden4B = DefaultConv2D(filters=256)(hidden3B)\n",
        "hidden5B = keras.layers.Flatten()(hidden4B)\n",
        "hidden6B = keras.layers.Dense(units=128, activation='relu')(hidden5B)\n",
        "\n",
        "####CONCATENAR#####\n",
        "\n",
        "concat = keras.layers.concatenate([hidden2A,hidden6B])\n",
        "\n",
        "hidden1AB = keras.layers.Dense(10, activation = 'relu')(hidden1A)\n",
        "\n",
        "######OUTPUT######\n",
        "outputA = keras.layers.Dense(3, activation='softmax')(hidden1AB)\n",
        "outputB = keras.layers.Dense(1)(hidden1AB)\n",
        "\n",
        "model_2out = keras.Model(inputs=[input_A, input_B],outputs=[outputA,outputB])\n"
      ],
      "execution_count": 0,
      "outputs": []
    },
    {
      "cell_type": "code",
      "metadata": {
        "id": "nMmztpxf0yIP",
        "colab_type": "code",
        "colab": {
          "base_uri": "https://localhost:8080/",
          "height": 319
        },
        "outputId": "ffb6f39f-8512-4039-a6a3-bcf4139c9870"
      },
      "source": [
        "model_2out.summary()"
      ],
      "execution_count": 18,
      "outputs": [
        {
          "output_type": "stream",
          "text": [
            "Model: \"model\"\n",
            "__________________________________________________________________________________________________\n",
            "Layer (type)                    Output Shape         Param #     Connected to                     \n",
            "==================================================================================================\n",
            "input_1 (InputLayer)            [(None, 81)]         0                                            \n",
            "__________________________________________________________________________________________________\n",
            "dense (Dense)                   (None, 30)           2460        input_1[0][0]                    \n",
            "__________________________________________________________________________________________________\n",
            "dense_3 (Dense)                 (None, 10)           310         dense[0][0]                      \n",
            "__________________________________________________________________________________________________\n",
            "dense_4 (Dense)                 (None, 3)            33          dense_3[0][0]                    \n",
            "__________________________________________________________________________________________________\n",
            "dense_5 (Dense)                 (None, 1)            11          dense_3[0][0]                    \n",
            "==================================================================================================\n",
            "Total params: 2,814\n",
            "Trainable params: 2,814\n",
            "Non-trainable params: 0\n",
            "__________________________________________________________________________________________________\n"
          ],
          "name": "stdout"
        }
      ]
    },
    {
      "cell_type": "code",
      "metadata": {
        "id": "jrzF91ei0yEH",
        "colab_type": "code",
        "colab": {
          "base_uri": "https://localhost:8080/",
          "height": 235
        },
        "outputId": "c232bd6c-8da9-4a2b-b1ea-08235b9eab8f"
      },
      "source": [
        "hidden1 = model_2out.layers[1]\n",
        "weights, biases = hidden1.get_weights()\n",
        "weights"
      ],
      "execution_count": 19,
      "outputs": [
        {
          "output_type": "execute_result",
          "data": {
            "text/plain": [
              "array([[ 0.0890159 , -0.04420316, -0.01709238, ..., -0.08295827,\n",
              "         0.10282069, -0.02713013],\n",
              "       [ 0.0662787 , -0.19433777, -0.11153138, ..., -0.20171705,\n",
              "        -0.07712425,  0.22126424],\n",
              "       [-0.11309493,  0.1704314 ,  0.2031435 , ..., -0.06899182,\n",
              "         0.04266834,  0.05965728],\n",
              "       ...,\n",
              "       [ 0.04419878, -0.19053996,  0.12731183, ...,  0.06919277,\n",
              "         0.12042743,  0.13327295],\n",
              "       [-0.17686105,  0.06987873, -0.05722117, ...,  0.11341029,\n",
              "         0.01964214, -0.22582841],\n",
              "       [ 0.21716884,  0.17769733,  0.22790569, ..., -0.07516648,\n",
              "        -0.12212407, -0.21957399]], dtype=float32)"
            ]
          },
          "metadata": {
            "tags": []
          },
          "execution_count": 19
        }
      ]
    },
    {
      "cell_type": "code",
      "metadata": {
        "id": "E4ks4E3CMOzq",
        "colab_type": "code",
        "colab": {
          "base_uri": "https://localhost:8080/",
          "height": 67
        },
        "outputId": "00591c7a-ffcb-40ae-ff33-26b4383e50cb"
      },
      "source": [
        "print(biases.shape)\n",
        "biases"
      ],
      "execution_count": 20,
      "outputs": [
        {
          "output_type": "stream",
          "text": [
            "(30,)\n"
          ],
          "name": "stdout"
        },
        {
          "output_type": "execute_result",
          "data": {
            "text/plain": [
              "array([0., 0., 0., 0., 0., 0., 0., 0., 0., 0., 0., 0., 0., 0., 0., 0., 0.,\n",
              "       0., 0., 0., 0., 0., 0., 0., 0., 0., 0., 0., 0., 0.], dtype=float32)"
            ]
          },
          "metadata": {
            "tags": []
          },
          "execution_count": 20
        }
      ]
    },
    {
      "cell_type": "code",
      "metadata": {
        "id": "bb79g7g5qYDl",
        "colab_type": "code",
        "colab": {}
      },
      "source": [
        "model_2out.compile(loss=keras.losses.mse,\n",
        "              optimizer=\"sgd\",\n",
        "              metrics=[keras.losses.mae])"
      ],
      "execution_count": 0,
      "outputs": []
    },
    {
      "cell_type": "code",
      "metadata": {
        "id": "HgUGMVAqqaer",
        "colab_type": "code",
        "colab": {
          "base_uri": "https://localhost:8080/",
          "height": 390
        },
        "outputId": "ff34a9c0-479b-4870-8848-ef11393fb114"
      },
      "source": [
        "history = model_2out.fit(Xtrain, ytrain, epochs=10, validation_data=(Xvalid, yvalid))"
      ],
      "execution_count": 24,
      "outputs": [
        {
          "output_type": "error",
          "ename": "ValueError",
          "evalue": "ignored",
          "traceback": [
            "\u001b[0;31m---------------------------------------------------------------------------\u001b[0m",
            "\u001b[0;31mValueError\u001b[0m                                Traceback (most recent call last)",
            "\u001b[0;32m<ipython-input-24-662da4a2e8a6>\u001b[0m in \u001b[0;36m<module>\u001b[0;34m()\u001b[0m\n\u001b[0;32m----> 1\u001b[0;31m \u001b[0mhistory\u001b[0m \u001b[0;34m=\u001b[0m \u001b[0mmodel_2out\u001b[0m\u001b[0;34m.\u001b[0m\u001b[0mfit\u001b[0m\u001b[0;34m(\u001b[0m\u001b[0mXtrain\u001b[0m\u001b[0;34m,\u001b[0m \u001b[0mytrain\u001b[0m\u001b[0;34m,\u001b[0m \u001b[0mepochs\u001b[0m\u001b[0;34m=\u001b[0m\u001b[0;36m10\u001b[0m\u001b[0;34m,\u001b[0m \u001b[0mvalidation_data\u001b[0m\u001b[0;34m=\u001b[0m\u001b[0;34m(\u001b[0m\u001b[0mXvalid\u001b[0m\u001b[0;34m,\u001b[0m \u001b[0myvalid\u001b[0m\u001b[0;34m)\u001b[0m\u001b[0;34m)\u001b[0m\u001b[0;34m\u001b[0m\u001b[0;34m\u001b[0m\u001b[0m\n\u001b[0m",
            "\u001b[0;32m/usr/local/lib/python3.6/dist-packages/tensorflow/python/keras/engine/training.py\u001b[0m in \u001b[0;36mfit\u001b[0;34m(self, x, y, batch_size, epochs, verbose, callbacks, validation_split, validation_data, shuffle, class_weight, sample_weight, initial_epoch, steps_per_epoch, validation_steps, validation_freq, max_queue_size, workers, use_multiprocessing, **kwargs)\u001b[0m\n\u001b[1;32m    804\u001b[0m         \u001b[0msteps\u001b[0m\u001b[0;34m=\u001b[0m\u001b[0msteps_per_epoch\u001b[0m\u001b[0;34m,\u001b[0m\u001b[0;34m\u001b[0m\u001b[0;34m\u001b[0m\u001b[0m\n\u001b[1;32m    805\u001b[0m         \u001b[0mvalidation_split\u001b[0m\u001b[0;34m=\u001b[0m\u001b[0mvalidation_split\u001b[0m\u001b[0;34m,\u001b[0m\u001b[0;34m\u001b[0m\u001b[0;34m\u001b[0m\u001b[0m\n\u001b[0;32m--> 806\u001b[0;31m         shuffle=shuffle)\n\u001b[0m\u001b[1;32m    807\u001b[0m \u001b[0;34m\u001b[0m\u001b[0m\n\u001b[1;32m    808\u001b[0m     \u001b[0;31m# Prepare validation data.\u001b[0m\u001b[0;34m\u001b[0m\u001b[0;34m\u001b[0m\u001b[0;34m\u001b[0m\u001b[0m\n",
            "\u001b[0;32m/usr/local/lib/python3.6/dist-packages/tensorflow/python/keras/engine/training.py\u001b[0m in \u001b[0;36m_standardize_user_data\u001b[0;34m(self, x, y, sample_weight, class_weight, batch_size, check_steps, steps_name, steps, validation_split, shuffle, extract_tensors_from_dataset)\u001b[0m\n\u001b[1;32m   2594\u001b[0m           \u001b[0mfeed_input_shapes\u001b[0m\u001b[0;34m,\u001b[0m\u001b[0;34m\u001b[0m\u001b[0;34m\u001b[0m\u001b[0m\n\u001b[1;32m   2595\u001b[0m           \u001b[0mcheck_batch_axis\u001b[0m\u001b[0;34m=\u001b[0m\u001b[0;32mFalse\u001b[0m\u001b[0;34m,\u001b[0m  \u001b[0;31m# Don't enforce the batch size.\u001b[0m\u001b[0;34m\u001b[0m\u001b[0;34m\u001b[0m\u001b[0m\n\u001b[0;32m-> 2596\u001b[0;31m           exception_prefix='input')\n\u001b[0m\u001b[1;32m   2597\u001b[0m \u001b[0;34m\u001b[0m\u001b[0m\n\u001b[1;32m   2598\u001b[0m     \u001b[0;32mif\u001b[0m \u001b[0my\u001b[0m \u001b[0;32mis\u001b[0m \u001b[0;32mnot\u001b[0m \u001b[0;32mNone\u001b[0m\u001b[0;34m:\u001b[0m\u001b[0;34m\u001b[0m\u001b[0;34m\u001b[0m\u001b[0m\n",
            "\u001b[0;32m/usr/local/lib/python3.6/dist-packages/tensorflow/python/keras/engine/training_utils.py\u001b[0m in \u001b[0;36mstandardize_input_data\u001b[0;34m(data, names, shapes, check_batch_axis, exception_prefix)\u001b[0m\n\u001b[1;32m    308\u001b[0m                        \u001b[0;34m'Expected to see '\u001b[0m \u001b[0;34m+\u001b[0m \u001b[0mstr\u001b[0m\u001b[0;34m(\u001b[0m\u001b[0mlen\u001b[0m\u001b[0;34m(\u001b[0m\u001b[0mnames\u001b[0m\u001b[0;34m)\u001b[0m\u001b[0;34m)\u001b[0m \u001b[0;34m+\u001b[0m \u001b[0;34m' array(s), '\u001b[0m\u001b[0;34m\u001b[0m\u001b[0;34m\u001b[0m\u001b[0m\n\u001b[1;32m    309\u001b[0m                        \u001b[0;34m'but instead got the following list of '\u001b[0m \u001b[0;34m+\u001b[0m\u001b[0;34m\u001b[0m\u001b[0;34m\u001b[0m\u001b[0m\n\u001b[0;32m--> 310\u001b[0;31m                        str(len(data)) + ' arrays: ' + str(data)[:200] + '...')\n\u001b[0m\u001b[1;32m    311\u001b[0m     \u001b[0;32melif\u001b[0m \u001b[0mlen\u001b[0m\u001b[0;34m(\u001b[0m\u001b[0mnames\u001b[0m\u001b[0;34m)\u001b[0m \u001b[0;34m>\u001b[0m \u001b[0;36m1\u001b[0m\u001b[0;34m:\u001b[0m\u001b[0;34m\u001b[0m\u001b[0;34m\u001b[0m\u001b[0m\n\u001b[1;32m    312\u001b[0m       raise ValueError('Error when checking model ' + exception_prefix +\n",
            "\u001b[0;31mValueError\u001b[0m: Error when checking model input: the list of Numpy arrays that you are passing to your model is not the size the model expected. Expected to see 2 array(s), but instead got the following list of 1 arrays: [array([[31, 'Spain', 82, ..., 7.0, 14.0, 16.0],\n       [29, 'Croatia', 85, ..., 10.0, 9.0, 6.0],\n       [30, 'Brazil', 82, ..., 77.0, 83.0, 78.0],\n       ...,\n       [28, 'England', 81, ..., 16.0, 15..."
          ]
        }
      ]
    },
    {
      "cell_type": "code",
      "metadata": {
        "id": "zUTMyX_ZqeaH",
        "colab_type": "code",
        "colab": {}
      },
      "source": [
        ""
      ],
      "execution_count": 0,
      "outputs": []
    }
  ]
}